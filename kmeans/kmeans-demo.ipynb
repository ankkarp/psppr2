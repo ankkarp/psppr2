{
 "cells": [
  {
   "cell_type": "code",
   "execution_count": 1,
   "metadata": {},
   "outputs": [],
   "source": [
    "import numpy as np\n",
    "import pandas as pd\n",
    "\n",
    "from kmeans import Kmeans\n",
    "from metrics import *\n",
    "from encode import onehotencode"
   ]
  },
  {
   "cell_type": "code",
   "execution_count": 2,
   "metadata": {},
   "outputs": [
    {
     "data": {
      "text/html": [
       "<div>\n",
       "<style scoped>\n",
       "    .dataframe tbody tr th:only-of-type {\n",
       "        vertical-align: middle;\n",
       "    }\n",
       "\n",
       "    .dataframe tbody tr th {\n",
       "        vertical-align: top;\n",
       "    }\n",
       "\n",
       "    .dataframe thead th {\n",
       "        text-align: right;\n",
       "    }\n",
       "</style>\n",
       "<table border=\"1\" class=\"dataframe\">\n",
       "  <thead>\n",
       "    <tr style=\"text-align: right;\">\n",
       "      <th></th>\n",
       "      <th>Unnamed: 0</th>\n",
       "      <th>specialty</th>\n",
       "      <th>years_practicing</th>\n",
       "      <th>cms_prescription_counts</th>\n",
       "      <th>encoded</th>\n",
       "    </tr>\n",
       "  </thead>\n",
       "  <tbody>\n",
       "    <tr>\n",
       "      <th>0</th>\n",
       "      <td>0</td>\n",
       "      <td>Nephrology</td>\n",
       "      <td>7</td>\n",
       "      <td>HYDROCODONE GABAPENTIN OMEPRAZOLE LISINOPRIL L...</td>\n",
       "      <td>[0, 1, 1, 1, 1]</td>\n",
       "    </tr>\n",
       "    <tr>\n",
       "      <th>1</th>\n",
       "      <td>1</td>\n",
       "      <td>General Practice</td>\n",
       "      <td>7</td>\n",
       "      <td>AMOXICILLIN HYDROCODONE</td>\n",
       "      <td>[1, 0, 1, 0, 0]</td>\n",
       "    </tr>\n",
       "    <tr>\n",
       "      <th>2</th>\n",
       "      <td>2</td>\n",
       "      <td>General Practice</td>\n",
       "      <td>7</td>\n",
       "      <td>AMOXICILLIN</td>\n",
       "      <td>[1, 0, 0, 0, 0]</td>\n",
       "    </tr>\n",
       "    <tr>\n",
       "      <th>3</th>\n",
       "      <td>3</td>\n",
       "      <td>General Practice</td>\n",
       "      <td>7</td>\n",
       "      <td>AMOXICILLIN</td>\n",
       "      <td>[1, 0, 0, 0, 0]</td>\n",
       "    </tr>\n",
       "    <tr>\n",
       "      <th>4</th>\n",
       "      <td>4</td>\n",
       "      <td>Nephrology</td>\n",
       "      <td>6</td>\n",
       "      <td>HYDROCODONE OMEPRAZOLE LISINOPRIL AMOXICILLIN ...</td>\n",
       "      <td>[1, 1, 1, 1, 1]</td>\n",
       "    </tr>\n",
       "    <tr>\n",
       "      <th>...</th>\n",
       "      <td>...</td>\n",
       "      <td>...</td>\n",
       "      <td>...</td>\n",
       "      <td>...</td>\n",
       "      <td>...</td>\n",
       "    </tr>\n",
       "    <tr>\n",
       "      <th>175922</th>\n",
       "      <td>239924</td>\n",
       "      <td>General Practice</td>\n",
       "      <td>6</td>\n",
       "      <td>AMOXICILLIN HYDROCODONE</td>\n",
       "      <td>[1, 0, 1, 0, 0]</td>\n",
       "    </tr>\n",
       "    <tr>\n",
       "      <th>175923</th>\n",
       "      <td>239925</td>\n",
       "      <td>Family</td>\n",
       "      <td>7</td>\n",
       "      <td>LISINOPRIL LISINOPRIL OMEPRAZOLE</td>\n",
       "      <td>[0, 0, 0, 1, 1]</td>\n",
       "    </tr>\n",
       "    <tr>\n",
       "      <th>175924</th>\n",
       "      <td>239927</td>\n",
       "      <td>Psych/Mental Health</td>\n",
       "      <td>3</td>\n",
       "      <td>GABAPENTIN</td>\n",
       "      <td>[0, 1, 0, 0, 0]</td>\n",
       "    </tr>\n",
       "    <tr>\n",
       "      <th>175925</th>\n",
       "      <td>239928</td>\n",
       "      <td>Family</td>\n",
       "      <td>2</td>\n",
       "      <td>AMOXICILLIN LISINOPRIL LISINOPRIL</td>\n",
       "      <td>[1, 0, 0, 1, 0]</td>\n",
       "    </tr>\n",
       "    <tr>\n",
       "      <th>175926</th>\n",
       "      <td>239929</td>\n",
       "      <td>General Practice</td>\n",
       "      <td>7</td>\n",
       "      <td>AMOXICILLIN</td>\n",
       "      <td>[1, 0, 0, 0, 0]</td>\n",
       "    </tr>\n",
       "  </tbody>\n",
       "</table>\n",
       "<p>175927 rows × 5 columns</p>\n",
       "</div>"
      ],
      "text/plain": [
       "        Unnamed: 0            specialty  years_practicing  \\\n",
       "0                0           Nephrology                 7   \n",
       "1                1     General Practice                 7   \n",
       "2                2     General Practice                 7   \n",
       "3                3     General Practice                 7   \n",
       "4                4           Nephrology                 6   \n",
       "...            ...                  ...               ...   \n",
       "175922      239924     General Practice                 6   \n",
       "175923      239925               Family                 7   \n",
       "175924      239927  Psych/Mental Health                 3   \n",
       "175925      239928               Family                 2   \n",
       "175926      239929     General Practice                 7   \n",
       "\n",
       "                                  cms_prescription_counts          encoded  \n",
       "0       HYDROCODONE GABAPENTIN OMEPRAZOLE LISINOPRIL L...  [0, 1, 1, 1, 1]  \n",
       "1                                 AMOXICILLIN HYDROCODONE  [1, 0, 1, 0, 0]  \n",
       "2                                             AMOXICILLIN  [1, 0, 0, 0, 0]  \n",
       "3                                             AMOXICILLIN  [1, 0, 0, 0, 0]  \n",
       "4       HYDROCODONE OMEPRAZOLE LISINOPRIL AMOXICILLIN ...  [1, 1, 1, 1, 1]  \n",
       "...                                                   ...              ...  \n",
       "175922                            AMOXICILLIN HYDROCODONE  [1, 0, 1, 0, 0]  \n",
       "175923                   LISINOPRIL LISINOPRIL OMEPRAZOLE  [0, 0, 0, 1, 1]  \n",
       "175924                                         GABAPENTIN  [0, 1, 0, 0, 0]  \n",
       "175925                  AMOXICILLIN LISINOPRIL LISINOPRIL  [1, 0, 0, 1, 0]  \n",
       "175926                                        AMOXICILLIN  [1, 0, 0, 0, 0]  \n",
       "\n",
       "[175927 rows x 5 columns]"
      ]
     },
     "execution_count": 2,
     "metadata": {},
     "output_type": "execute_result"
    }
   ],
   "source": [
    "df = pd.read_csv('top5drugs_encoded.csv')\n",
    "df"
   ]
  },
  {
   "cell_type": "code",
   "execution_count": 3,
   "metadata": {},
   "outputs": [],
   "source": [
    "encoded = np.load('top5encoded.npy')"
   ]
  },
  {
   "cell_type": "code",
   "execution_count": 4,
   "metadata": {},
   "outputs": [
    {
     "data": {
      "text/html": [
       "<div>\n",
       "<style scoped>\n",
       "    .dataframe tbody tr th:only-of-type {\n",
       "        vertical-align: middle;\n",
       "    }\n",
       "\n",
       "    .dataframe tbody tr th {\n",
       "        vertical-align: top;\n",
       "    }\n",
       "\n",
       "    .dataframe thead th {\n",
       "        text-align: right;\n",
       "    }\n",
       "</style>\n",
       "<table border=\"1\" class=\"dataframe\">\n",
       "  <thead>\n",
       "    <tr style=\"text-align: right;\">\n",
       "      <th></th>\n",
       "      <th>Unnamed: 0</th>\n",
       "      <th>specialty</th>\n",
       "      <th>years_practicing</th>\n",
       "      <th>cms_prescription_counts</th>\n",
       "      <th>encoded</th>\n",
       "    </tr>\n",
       "  </thead>\n",
       "  <tbody>\n",
       "    <tr>\n",
       "      <th>0</th>\n",
       "      <td>0</td>\n",
       "      <td>Nephrology</td>\n",
       "      <td>7</td>\n",
       "      <td>HYDROCODONE GABAPENTIN OMEPRAZOLE LISINOPRIL L...</td>\n",
       "      <td>[0, 1, 1, 1, 1]</td>\n",
       "    </tr>\n",
       "    <tr>\n",
       "      <th>1</th>\n",
       "      <td>1</td>\n",
       "      <td>General Practice</td>\n",
       "      <td>7</td>\n",
       "      <td>AMOXICILLIN HYDROCODONE</td>\n",
       "      <td>[1, 0, 1, 0, 0]</td>\n",
       "    </tr>\n",
       "    <tr>\n",
       "      <th>2</th>\n",
       "      <td>2</td>\n",
       "      <td>General Practice</td>\n",
       "      <td>7</td>\n",
       "      <td>AMOXICILLIN</td>\n",
       "      <td>[1, 0, 0, 0, 0]</td>\n",
       "    </tr>\n",
       "    <tr>\n",
       "      <th>3</th>\n",
       "      <td>3</td>\n",
       "      <td>General Practice</td>\n",
       "      <td>7</td>\n",
       "      <td>AMOXICILLIN</td>\n",
       "      <td>[1, 0, 0, 0, 0]</td>\n",
       "    </tr>\n",
       "    <tr>\n",
       "      <th>4</th>\n",
       "      <td>4</td>\n",
       "      <td>Nephrology</td>\n",
       "      <td>6</td>\n",
       "      <td>HYDROCODONE OMEPRAZOLE LISINOPRIL AMOXICILLIN ...</td>\n",
       "      <td>[1, 1, 1, 1, 1]</td>\n",
       "    </tr>\n",
       "    <tr>\n",
       "      <th>...</th>\n",
       "      <td>...</td>\n",
       "      <td>...</td>\n",
       "      <td>...</td>\n",
       "      <td>...</td>\n",
       "      <td>...</td>\n",
       "    </tr>\n",
       "    <tr>\n",
       "      <th>175922</th>\n",
       "      <td>239924</td>\n",
       "      <td>General Practice</td>\n",
       "      <td>6</td>\n",
       "      <td>AMOXICILLIN HYDROCODONE</td>\n",
       "      <td>[1, 0, 1, 0, 0]</td>\n",
       "    </tr>\n",
       "    <tr>\n",
       "      <th>175923</th>\n",
       "      <td>239925</td>\n",
       "      <td>Family</td>\n",
       "      <td>7</td>\n",
       "      <td>LISINOPRIL LISINOPRIL OMEPRAZOLE</td>\n",
       "      <td>[0, 0, 0, 1, 1]</td>\n",
       "    </tr>\n",
       "    <tr>\n",
       "      <th>175924</th>\n",
       "      <td>239927</td>\n",
       "      <td>Psych/Mental Health</td>\n",
       "      <td>3</td>\n",
       "      <td>GABAPENTIN</td>\n",
       "      <td>[0, 1, 0, 0, 0]</td>\n",
       "    </tr>\n",
       "    <tr>\n",
       "      <th>175925</th>\n",
       "      <td>239928</td>\n",
       "      <td>Family</td>\n",
       "      <td>2</td>\n",
       "      <td>AMOXICILLIN LISINOPRIL LISINOPRIL</td>\n",
       "      <td>[1, 0, 0, 1, 0]</td>\n",
       "    </tr>\n",
       "    <tr>\n",
       "      <th>175926</th>\n",
       "      <td>239929</td>\n",
       "      <td>General Practice</td>\n",
       "      <td>7</td>\n",
       "      <td>AMOXICILLIN</td>\n",
       "      <td>[1, 0, 0, 0, 0]</td>\n",
       "    </tr>\n",
       "  </tbody>\n",
       "</table>\n",
       "<p>175927 rows × 5 columns</p>\n",
       "</div>"
      ],
      "text/plain": [
       "        Unnamed: 0            specialty  years_practicing  \\\n",
       "0                0           Nephrology                 7   \n",
       "1                1     General Practice                 7   \n",
       "2                2     General Practice                 7   \n",
       "3                3     General Practice                 7   \n",
       "4                4           Nephrology                 6   \n",
       "...            ...                  ...               ...   \n",
       "175922      239924     General Practice                 6   \n",
       "175923      239925               Family                 7   \n",
       "175924      239927  Psych/Mental Health                 3   \n",
       "175925      239928               Family                 2   \n",
       "175926      239929     General Practice                 7   \n",
       "\n",
       "                                  cms_prescription_counts          encoded  \n",
       "0       HYDROCODONE GABAPENTIN OMEPRAZOLE LISINOPRIL L...  [0, 1, 1, 1, 1]  \n",
       "1                                 AMOXICILLIN HYDROCODONE  [1, 0, 1, 0, 0]  \n",
       "2                                             AMOXICILLIN  [1, 0, 0, 0, 0]  \n",
       "3                                             AMOXICILLIN  [1, 0, 0, 0, 0]  \n",
       "4       HYDROCODONE OMEPRAZOLE LISINOPRIL AMOXICILLIN ...  [1, 1, 1, 1, 1]  \n",
       "...                                                   ...              ...  \n",
       "175922                            AMOXICILLIN HYDROCODONE  [1, 0, 1, 0, 0]  \n",
       "175923                   LISINOPRIL LISINOPRIL OMEPRAZOLE  [0, 0, 0, 1, 1]  \n",
       "175924                                         GABAPENTIN  [0, 1, 0, 0, 0]  \n",
       "175925                  AMOXICILLIN LISINOPRIL LISINOPRIL  [1, 0, 0, 1, 0]  \n",
       "175926                                        AMOXICILLIN  [1, 0, 0, 0, 0]  \n",
       "\n",
       "[175927 rows x 5 columns]"
      ]
     },
     "execution_count": 4,
     "metadata": {},
     "output_type": "execute_result"
    }
   ],
   "source": [
    "df"
   ]
  },
  {
   "cell_type": "code",
   "execution_count": 5,
   "metadata": {},
   "outputs": [
    {
     "data": {
      "text/plain": [
       "array([list(['0', '1', '1', '1', '1']), list(['1', '0', '1', '0', '0']),\n",
       "       list(['1', '0', '0', '0', '0']), ...,\n",
       "       list(['0', '1', '0', '0', '0']), list(['1', '0', '0', '1', '0']),\n",
       "       list(['1', '0', '0', '0', '0'])], dtype=object)"
      ]
     },
     "execution_count": 5,
     "metadata": {},
     "output_type": "execute_result"
    }
   ],
   "source": [
    "df['encoded'].str[1:-1].str.split(', ').values"
   ]
  },
  {
   "cell_type": "code",
   "execution_count": 6,
   "metadata": {},
   "outputs": [],
   "source": [
    "from sklearn.decomposition import PCA\n",
    "from sklearn.manifold import TSNE"
   ]
  },
  {
   "cell_type": "code",
   "execution_count": 7,
   "metadata": {},
   "outputs": [],
   "source": [
    "pca = PCA(n_components=2)"
   ]
  },
  {
   "cell_type": "code",
   "execution_count": 8,
   "metadata": {},
   "outputs": [],
   "source": [
    "coords = pca.fit_transform(encoded)"
   ]
  },
  {
   "cell_type": "code",
   "execution_count": 9,
   "metadata": {},
   "outputs": [
    {
     "data": {
      "text/plain": [
       "(31, 5)"
      ]
     },
     "execution_count": 9,
     "metadata": {},
     "output_type": "execute_result"
    }
   ],
   "source": [
    "np.unique(encoded, axis=0).shape"
   ]
  },
  {
   "cell_type": "code",
   "execution_count": 13,
   "metadata": {},
   "outputs": [
    {
     "ename": "KeyboardInterrupt",
     "evalue": "",
     "output_type": "error",
     "traceback": [
      "\u001b[1;31m---------------------------------------------------------------------------\u001b[0m",
      "\u001b[1;31mKeyboardInterrupt\u001b[0m                         Traceback (most recent call last)",
      "Cell \u001b[1;32mIn[13], line 7\u001b[0m\n\u001b[0;32m      5\u001b[0m \u001b[39mwith\u001b[39;00m redirect_stdout(f):\n\u001b[0;32m      6\u001b[0m     km \u001b[39m=\u001b[39m Kmeans(\u001b[39m2\u001b[39m, metric\u001b[39m=\u001b[39meuclid_distance)\n\u001b[1;32m----> 7\u001b[0m     km\u001b[39m.\u001b[39;49mfit(encoded)\n\u001b[0;32m      8\u001b[0m     df[\u001b[39m'\u001b[39m\u001b[39mcluster\u001b[39m\u001b[39m'\u001b[39m] \u001b[39m=\u001b[39m km\u001b[39m.\u001b[39mlabels\n",
      "File \u001b[1;32md:\\GitHub\\psppr2\\kmeans\\kmeans.py:50\u001b[0m, in \u001b[0;36mKmeans.fit\u001b[1;34m(self, X)\u001b[0m\n\u001b[0;32m     48\u001b[0m \u001b[39mfor\u001b[39;00m _ \u001b[39min\u001b[39;00m \u001b[39mrange\u001b[39m(\u001b[39mself\u001b[39m\u001b[39m.\u001b[39mmax_iter):\n\u001b[0;32m     49\u001b[0m     old_centroids \u001b[39m=\u001b[39m \u001b[39mself\u001b[39m\u001b[39m.\u001b[39mcentroids\n\u001b[1;32m---> 50\u001b[0m     distance \u001b[39m=\u001b[39m \u001b[39mself\u001b[39;49m\u001b[39m.\u001b[39;49mcompute_distance(X, old_centroids)\n\u001b[0;32m     51\u001b[0m     \u001b[39mself\u001b[39m\u001b[39m.\u001b[39mlabels \u001b[39m=\u001b[39m \u001b[39mself\u001b[39m\u001b[39m.\u001b[39mdetermine_cluster(distance)\n\u001b[0;32m     52\u001b[0m     \u001b[39mself\u001b[39m\u001b[39m.\u001b[39mcentroids \u001b[39m=\u001b[39m \u001b[39mself\u001b[39m\u001b[39m.\u001b[39mcompute_centroids(X, \u001b[39mself\u001b[39m\u001b[39m.\u001b[39mlabels)\n",
      "File \u001b[1;32md:\\GitHub\\psppr2\\kmeans\\kmeans.py:40\u001b[0m, in \u001b[0;36mKmeans.compute_distance\u001b[1;34m(self, X, centroids)\u001b[0m\n\u001b[0;32m     37\u001b[0m \u001b[39mdef\u001b[39;00m \u001b[39mcompute_distance\u001b[39m(\u001b[39mself\u001b[39m, X, centroids):\n\u001b[0;32m     38\u001b[0m     \u001b[39m# distance = np.empty(len(X))\u001b[39;00m\n\u001b[0;32m     39\u001b[0m     \u001b[39m# for centroid in range(self.centroids):\u001b[39;00m\n\u001b[1;32m---> 40\u001b[0m     distance \u001b[39m=\u001b[39m \u001b[39mself\u001b[39;49m\u001b[39m.\u001b[39;49mcalculate_metric(X, centroids)\n\u001b[0;32m     41\u001b[0m     \u001b[39mreturn\u001b[39;00m distance\n",
      "File \u001b[1;32md:\\GitHub\\psppr2\\kmeans\\kmeans.py:34\u001b[0m, in \u001b[0;36mKmeans.calculate_metric\u001b[1;34m(self, X, centroids)\u001b[0m\n\u001b[0;32m     31\u001b[0m     \u001b[39mfor\u001b[39;00m j \u001b[39min\u001b[39;00m \u001b[39mrange\u001b[39m(distance_matrix\u001b[39m.\u001b[39mshape[\u001b[39m1\u001b[39m]):\n\u001b[0;32m     32\u001b[0m         \u001b[39m# pbar.update(1)\u001b[39;00m\n\u001b[0;32m     33\u001b[0m         \u001b[39mprint\u001b[39m(\u001b[39mf\u001b[39m\u001b[39m'\u001b[39m\u001b[39mx\u001b[39m\u001b[39m{\u001b[39;00mi\u001b[39m+\u001b[39m\u001b[39m1\u001b[39m\u001b[39m}\u001b[39;00m\u001b[39m{\u001b[39;00mj\u001b[39m+\u001b[39m\u001b[39m1\u001b[39m\u001b[39m}\u001b[39;00m\u001b[39m'\u001b[39m)\n\u001b[1;32m---> 34\u001b[0m         distance_matrix[i, j] \u001b[39m=\u001b[39m \u001b[39mself\u001b[39;49m\u001b[39m.\u001b[39;49mmetric(X[i], centroids[j])\n\u001b[0;32m     35\u001b[0m \u001b[39mreturn\u001b[39;00m distance_matrix\n",
      "File \u001b[1;32md:\\GitHub\\psppr2\\kmeans\\metrics.py:11\u001b[0m, in \u001b[0;36meuclid_distance\u001b[1;34m(x1, x2)\u001b[0m\n\u001b[0;32m     10\u001b[0m \u001b[39mdef\u001b[39;00m \u001b[39meuclid_distance\u001b[39m(x1, x2):\n\u001b[1;32m---> 11\u001b[0m     \u001b[39mreturn\u001b[39;00m np\u001b[39m.\u001b[39msqrt(square_euclid_distance(x1, x2))\n",
      "File \u001b[1;32md:\\GitHub\\psppr2\\kmeans\\metrics.py:5\u001b[0m, in \u001b[0;36msquare_euclid_distance\u001b[1;34m(x1, x2)\u001b[0m\n\u001b[0;32m      4\u001b[0m \u001b[39mdef\u001b[39;00m \u001b[39msquare_euclid_distance\u001b[39m(x1, x2):\n\u001b[1;32m----> 5\u001b[0m     \u001b[39mprint\u001b[39;49m(\u001b[39m'\u001b[39;49m\u001b[39m+\u001b[39;49m\u001b[39m'\u001b[39;49m\u001b[39m.\u001b[39;49mjoin([\u001b[39mf\u001b[39;49m\u001b[39m'\u001b[39;49m\u001b[39m√(\u001b[39;49m\u001b[39m{\u001b[39;49;00mx1_el\u001b[39m}\u001b[39;49;00m\u001b[39m - \u001b[39;49m\u001b[39m{\u001b[39;49;00mx2_el\u001b[39m}\u001b[39;49;00m\u001b[39m)² = \u001b[39;49m\u001b[39m{\u001b[39;49;00mx1_el\u001b[39m \u001b[39;49m\u001b[39m-\u001b[39;49m\u001b[39m \u001b[39;49mx2_el\u001b[39m}\u001b[39;49;00m\u001b[39m² = \u001b[39;49m\u001b[39m{\u001b[39;49;00m(x1_el\u001b[39m \u001b[39;49m\u001b[39m-\u001b[39;49m\u001b[39m \u001b[39;49mx2_el)\u001b[39m \u001b[39;49m\u001b[39m*\u001b[39;49m\u001b[39m*\u001b[39;49m\u001b[39m \u001b[39;49m\u001b[39m2\u001b[39;49m\u001b[39m}\u001b[39;49;00m\u001b[39m'\u001b[39;49m\n\u001b[0;32m      6\u001b[0m                     \u001b[39mfor\u001b[39;49;00m x1_el, x2_el \u001b[39min\u001b[39;49;00m \u001b[39mzip\u001b[39;49m(x1, x2)]))\n\u001b[0;32m      7\u001b[0m     \u001b[39mreturn\u001b[39;00m \u001b[39msum\u001b[39m([(x1_el \u001b[39m-\u001b[39m x2_el) \u001b[39m*\u001b[39m\u001b[39m*\u001b[39m \u001b[39m2\u001b[39m \u001b[39mfor\u001b[39;00m x1_el, x2_el \u001b[39min\u001b[39;00m \u001b[39mzip\u001b[39m(x1, x2)])\n",
      "\u001b[1;31mKeyboardInterrupt\u001b[0m: "
     ]
    }
   ],
   "source": [
    "import matplotlib.pyplot as plt\n",
    "from contextlib import redirect_stdout\n",
    "\n",
    "with open('calc.txt', 'w', encoding=\"utf-8\") as f:\n",
    "    with redirect_stdout(f):\n",
    "        km = Kmeans(2, metric=euclid_distance)\n",
    "        km.fit(encoded)\n",
    "        df['cluster'] = km.labels"
   ]
  },
  {
   "cell_type": "code",
   "execution_count": null,
   "metadata": {},
   "outputs": [
    {
     "data": {
      "text/plain": [
       "0         1\n",
       "1         0\n",
       "2         0\n",
       "3         0\n",
       "4         1\n",
       "         ..\n",
       "175922    0\n",
       "175923    1\n",
       "175924    0\n",
       "175925    0\n",
       "175926    0\n",
       "Name: cluster, Length: 175927, dtype: int64"
      ]
     },
     "execution_count": 19,
     "metadata": {},
     "output_type": "execute_result"
    }
   ],
   "source": [
    "df['cluster']"
   ]
  },
  {
   "cell_type": "code",
   "execution_count": null,
   "metadata": {},
   "outputs": [],
   "source": [
    "for label, clr in zip(df['cluster'].value_counts().index, ['r', 'b']):\n",
    "    print(label)\n",
    "    cl_idx = (df['cluster'] == label)\n",
    "    plt.scatter(coords[cl_idx, 0], coords[cl_idx, 1], c=[clr])\n",
    "plt.scatter(km.centroids[:, 0], km.centroids[:, 1], c='0')"
   ]
  },
  {
   "cell_type": "code",
   "execution_count": 18,
   "metadata": {},
   "outputs": [
    {
     "name": "stdout",
     "output_type": "stream",
     "text": [
      "0\n",
      "1\n"
     ]
    },
    {
     "data": {
      "text/plain": [
       "<matplotlib.collections.PathCollection at 0x1dc46885af0>"
      ]
     },
     "execution_count": 18,
     "metadata": {},
     "output_type": "execute_result"
    },
    {
     "data": {
      "image/png": "[encoded data removed]",
      "text/plain": [
       "<Figure size 640x480 with 1 Axes>"
      ]
     },
     "metadata": {},
     "output_type": "display_data"
    }
   ],
   "source": [
    "\n",
    "for label, clr in zip(df['cluster'].value_counts().index, ['r', 'b']):\n",
    "    print(label)\n",
    "    cl_idx = (df['cluster'] == label)\n",
    "    plt.scatter(coords[cl_idx, 0], coords[cl_idx, 1], c=[clr])\n",
    "plt.scatter(km.centroids[:, 0], km.centroids[:, 1], c='0')"
   ]
  },
  {
   "cell_type": "code",
   "execution_count": 16,
   "metadata": {},
   "outputs": [
    {
     "name": "stdout",
     "output_type": "stream",
     "text": [
      "0\n",
      "1\n"
     ]
    },
    {
     "data": {
      "text/plain": [
       "<matplotlib.collections.PathCollection at 0x1dc465f8b80>"
      ]
     },
     "execution_count": 16,
     "metadata": {},
     "output_type": "execute_result"
    },
    {
     "data": {
      "image/png": "[encoded data removed]",
      "text/plain": [
       "<Figure size 640x480 with 1 Axes>"
      ]
     },
     "metadata": {},
     "output_type": "display_data"
    }
   ],
   "source": [
    "\n",
    "for label, clr in zip(df['cluster'].value_counts().index, ['r', 'b']):\n",
    "    print(label)\n",
    "    cl_idx = (df['cluster'] == label)\n",
    "    plt.scatter(coords[cl_idx, 0], coords[cl_idx, 1], c=[clr])\n",
    "plt.scatter(km.centroids[:, 0], km.centroids[:, 1], c='0')"
   ]
  },
  {
   "cell_type": "code",
   "execution_count": 10,
   "metadata": {},
   "outputs": [
    {
     "name": "stderr",
     "output_type": "stream",
     "text": [
      "100%|██████████| 351854/351854 [00:03<00:00, 113749.17it/s]\n",
      "  1%|          | 1/100 [00:03<05:08,  3.12s/it]"
     ]
    },
    {
     "name": "stdout",
     "output_type": "stream",
     "text": [
      "[[0.07668167 0.59493468 0.35203585 0.57388933 0.54973581]\n",
      " [0.69482872 0.00370127 0.52098701 0.00804568 0.05410159]]\n"
     ]
    },
    {
     "name": "stderr",
     "output_type": "stream",
     "text": [
      "100%|██████████| 351854/351854 [00:02<00:00, 119325.46it/s]\n",
      "  2%|▏         | 2/100 [00:06<04:57,  3.03s/it]"
     ]
    },
    {
     "name": "stdout",
     "output_type": "stream",
     "text": [
      "[[0.07746747 0.58057106 0.37144309 0.56166606 0.56418803]\n",
      " [0.71526363 0.00306957 0.49990492 0.00532421 0.01676038]]\n"
     ]
    },
    {
     "name": "stderr",
     "output_type": "stream",
     "text": [
      "100%|██████████| 351854/351854 [00:03<00:00, 103597.13it/s]\n",
      "  2%|▏         | 2/100 [00:09<07:46,  4.76s/it]\n"
     ]
    },
    {
     "name": "stdout",
     "output_type": "stream",
     "text": [
      "[[0.07746747 0.58057106 0.37144309 0.56166606 0.56418803]\n",
      " [0.71526363 0.00306957 0.49990492 0.00532421 0.01676038]]\n",
      "0\n",
      "1\n"
     ]
    },
    {
     "data": {
      "text/plain": [
       "<matplotlib.collections.PathCollection at 0x1dc420be8e0>"
      ]
     },
     "execution_count": 10,
     "metadata": {},
     "output_type": "execute_result"
    },
    {
     "data": {
      "image/png": "[encoded data removed]",
      "text/plain": [
       "<Figure size 640x480 with 1 Axes>"
      ]
     },
     "metadata": {},
     "output_type": "display_data"
    }
   ],
   "source": [
    "\n",
    "for label, clr in zip(df['cluster'].value_counts().index, ['r', 'b']):\n",
    "    print(label)\n",
    "    cl_idx = (df['cluster'] == label)\n",
    "    plt.scatter(coords[cl_idx, 0], coords[cl_idx, 1], c=[clr])\n",
    "plt.scatter(km.centroids[:, 0], km.centroids[:, 1], c='0')"
   ]
  },
  {
   "cell_type": "markdown",
   "metadata": {},
   "source": []
  },
  {
   "cell_type": "code",
   "execution_count": 11,
   "metadata": {},
   "outputs": [],
   "source": [
    "def value_counts(data_s):\n",
    "    values, counts = np.unique(np.hstack(\n",
    "        data_s.str.extract('(\\w+)', expand=False).values), return_counts=True)\n",
    "    return dict(zip(list(values), list(counts)))"
   ]
  },
  {
   "cell_type": "code",
   "execution_count": 22,
   "metadata": {},
   "outputs": [
    {
     "name": "stdout",
     "output_type": "stream",
     "text": [
      "{'AMOXICILLIN': 50413, 'GABAPENTIN': 21217, 'HYDROCODONE': 28938, 'LISINOPRIL': 14185, 'OMEPRAZOLE': 14037}\n",
      "General Practice          42654\n",
      "Psychiatry                 8420\n",
      "Gastroenterology           8231\n",
      "Family                     7288\n",
      "Cardiovascular Disease     6104\n",
      "Name: specialty, dtype: int64\n",
      "{'AMOXICILLIN': 1210, 'GABAPENTIN': 10572, 'HYDROCODONE': 15189, 'LISINOPRIL': 6300, 'OMEPRAZOLE': 13866}\n",
      "Family                    11394\n",
      "Cardiovascular Disease     5952\n",
      "Medical                    4480\n",
      "Nephrology                 4024\n",
      "Adult Health               2403\n",
      "Name: specialty, dtype: int64\n"
     ]
    }
   ],
   "source": [
    "for cl in df['cluster'].value_counts().index:\n",
    "    print(value_counts(df[df['cluster'] == cl]['cms_prescription_counts']))\n",
    "    print(df[df['cluster'] == cl]['specialty'].value_counts().head(5))"
   ]
  }
 ],
 "metadata": {
  "kernelspec": {
   "display_name": ".venv",
   "language": "python",
   "name": "python3"
  },
  "language_info": {
   "codemirror_mode": {
    "name": "ipython",
    "version": 3
   },
   "file_extension": ".py",
   "mimetype": "text/x-python",
   "name": "python",
   "nbconvert_exporter": "python",
   "pygments_lexer": "ipython3",
   "version": "3.9.6"
  },
  "orig_nbformat": 4
 },
 "nbformat": 4,
 "nbformat_minor": 2
}
