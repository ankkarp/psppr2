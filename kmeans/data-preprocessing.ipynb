{
 "cells": [
  {
   "cell_type": "code",
   "execution_count": 18,
   "metadata": {},
   "outputs": [],
   "source": [
    "import pandas as pd\n",
    "import numpy as np\n",
    "from encode import onehotencode"
   ]
  },
  {
   "cell_type": "code",
   "execution_count": 2,
   "metadata": {},
   "outputs": [
    {
     "data": {
      "text/html": [
       "<div>\n",
       "<style scoped>\n",
       "    .dataframe tbody tr th:only-of-type {\n",
       "        vertical-align: middle;\n",
       "    }\n",
       "\n",
       "    .dataframe tbody tr th {\n",
       "        vertical-align: top;\n",
       "    }\n",
       "\n",
       "    .dataframe thead th {\n",
       "        text-align: right;\n",
       "    }\n",
       "</style>\n",
       "<table border=\"1\" class=\"dataframe\">\n",
       "  <thead>\n",
       "    <tr style=\"text-align: right;\">\n",
       "      <th></th>\n",
       "      <th>specialty</th>\n",
       "      <th>years_practicing</th>\n",
       "      <th>cms_prescription_counts</th>\n",
       "    </tr>\n",
       "  </thead>\n",
       "  <tbody>\n",
       "    <tr>\n",
       "      <th>0</th>\n",
       "      <td>Nephrology</td>\n",
       "      <td>7</td>\n",
       "      <td>DOXAZOSIN MESYLATE, MIDODRINE HCL, MEGESTROL A...</td>\n",
       "    </tr>\n",
       "    <tr>\n",
       "      <th>1</th>\n",
       "      <td>General Practice</td>\n",
       "      <td>7</td>\n",
       "      <td>CEPHALEXIN, AMOXICILLIN, HYDROCODONE-ACETAMINO...</td>\n",
       "    </tr>\n",
       "    <tr>\n",
       "      <th>2</th>\n",
       "      <td>General Practice</td>\n",
       "      <td>7</td>\n",
       "      <td>CEPHALEXIN, AMOXICILLIN, CLINDAMYCIN HCL</td>\n",
       "    </tr>\n",
       "    <tr>\n",
       "      <th>3</th>\n",
       "      <td>General Practice</td>\n",
       "      <td>7</td>\n",
       "      <td>AMOXICILLIN</td>\n",
       "    </tr>\n",
       "    <tr>\n",
       "      <th>4</th>\n",
       "      <td>Nephrology</td>\n",
       "      <td>6</td>\n",
       "      <td>PIOGLITAZONE HCL, BENAZEPRIL HCL, DIAZEPAM, HY...</td>\n",
       "    </tr>\n",
       "    <tr>\n",
       "      <th>...</th>\n",
       "      <td>...</td>\n",
       "      <td>...</td>\n",
       "      <td>...</td>\n",
       "    </tr>\n",
       "    <tr>\n",
       "      <th>239925</th>\n",
       "      <td>Family</td>\n",
       "      <td>7</td>\n",
       "      <td>SIMVASTATIN, NEXIUM, CHLORHEXIDINE GLUCONATE, ...</td>\n",
       "    </tr>\n",
       "    <tr>\n",
       "      <th>239926</th>\n",
       "      <td>Surgical Technologist</td>\n",
       "      <td>2</td>\n",
       "      <td>SANTYL, CLOPIDOGREL</td>\n",
       "    </tr>\n",
       "    <tr>\n",
       "      <th>239927</th>\n",
       "      <td>Psych/Mental Health</td>\n",
       "      <td>3</td>\n",
       "      <td>HYDROXYZINE PAMOATE, BUSPIRONE HCL, SEROQUEL X...</td>\n",
       "    </tr>\n",
       "    <tr>\n",
       "      <th>239928</th>\n",
       "      <td>Family</td>\n",
       "      <td>2</td>\n",
       "      <td>CIPROFLOXACIN HCL, AMOXICILLIN, IBUPROFEN, NEX...</td>\n",
       "    </tr>\n",
       "    <tr>\n",
       "      <th>239929</th>\n",
       "      <td>General Practice</td>\n",
       "      <td>7</td>\n",
       "      <td>AMOXICILLIN, PENICILLIN V POTASSIUM</td>\n",
       "    </tr>\n",
       "  </tbody>\n",
       "</table>\n",
       "<p>239930 rows × 3 columns</p>\n",
       "</div>"
      ],
      "text/plain": [
       "                    specialty  years_practicing  \\\n",
       "0                  Nephrology                 7   \n",
       "1            General Practice                 7   \n",
       "2            General Practice                 7   \n",
       "3            General Practice                 7   \n",
       "4                  Nephrology                 6   \n",
       "...                       ...               ...   \n",
       "239925                 Family                 7   \n",
       "239926  Surgical Technologist                 2   \n",
       "239927    Psych/Mental Health                 3   \n",
       "239928                 Family                 2   \n",
       "239929       General Practice                 7   \n",
       "\n",
       "                                  cms_prescription_counts  \n",
       "0       DOXAZOSIN MESYLATE, MIDODRINE HCL, MEGESTROL A...  \n",
       "1       CEPHALEXIN, AMOXICILLIN, HYDROCODONE-ACETAMINO...  \n",
       "2                CEPHALEXIN, AMOXICILLIN, CLINDAMYCIN HCL  \n",
       "3                                             AMOXICILLIN  \n",
       "4       PIOGLITAZONE HCL, BENAZEPRIL HCL, DIAZEPAM, HY...  \n",
       "...                                                   ...  \n",
       "239925  SIMVASTATIN, NEXIUM, CHLORHEXIDINE GLUCONATE, ...  \n",
       "239926                                SANTYL, CLOPIDOGREL  \n",
       "239927  HYDROXYZINE PAMOATE, BUSPIRONE HCL, SEROQUEL X...  \n",
       "239928  CIPROFLOXACIN HCL, AMOXICILLIN, IBUPROFEN, NEX...  \n",
       "239929                AMOXICILLIN, PENICILLIN V POTASSIUM  \n",
       "\n",
       "[239930 rows x 3 columns]"
      ]
     },
     "execution_count": 2,
     "metadata": {},
     "output_type": "execute_result"
    }
   ],
   "source": [
    "df = pd.read_csv('../medicine_prescription_records.csv', index_col=0)\n",
    "df"
   ]
  },
  {
   "cell_type": "code",
   "execution_count": 3,
   "metadata": {},
   "outputs": [],
   "source": [
    "drugs = np.hstack(df['cms_prescription_counts'].str.split(', ').values)"
   ]
  },
  {
   "cell_type": "code",
   "execution_count": 4,
   "metadata": {},
   "outputs": [
    {
     "data": {
      "text/plain": [
       "HYDROCODONE-ACETAMINOPHEN        74805\n",
       "AMOXICILLIN                      60566\n",
       "GABAPENTIN                       59619\n",
       "OMEPRAZOLE                       58947\n",
       "LISINOPRIL                       57142\n",
       "                                 ...  \n",
       "BD INSULIN SYRINGE MICRO-FINE        1\n",
       "OXYTOCIN                             1\n",
       "NAGLAZYME                            1\n",
       "METROCREAM                           1\n",
       "TESTRED                              1\n",
       "Length: 2397, dtype: int64"
      ]
     },
     "execution_count": 4,
     "metadata": {},
     "output_type": "execute_result"
    }
   ],
   "source": [
    "drug_counts = pd.Series(drugs).value_counts()\n",
    "drug_counts"
   ]
  },
  {
   "cell_type": "code",
   "execution_count": 5,
   "metadata": {},
   "outputs": [
    {
     "data": {
      "text/plain": [
       "['HYDROCODONE-ACETAMINOPHEN',\n",
       " 'AMOXICILLIN',\n",
       " 'GABAPENTIN',\n",
       " 'OMEPRAZOLE',\n",
       " 'LISINOPRIL']"
      ]
     },
     "execution_count": 5,
     "metadata": {},
     "output_type": "execute_result"
    }
   ],
   "source": [
    "top5drugs = list(drug_counts.head(5).index)\n",
    "top5drugs"
   ]
  },
  {
   "cell_type": "code",
   "execution_count": 6,
   "metadata": {},
   "outputs": [
    {
     "data": {
      "text/plain": [
       "'\\\\b(?!(HYDROCODONE\\\\-ACETAMINOPHEN)|(AMOXICILLIN)|(GABAPENTIN)|(OMEPRAZOLE)|(LISINOPRIL))\\\\b\\\\S+'"
      ]
     },
     "execution_count": 6,
     "metadata": {},
     "output_type": "execute_result"
    }
   ],
   "source": [
    "pat = r\"\\b(?!({}))\\b\\S+\".format(')|('.join(top5drugs).replace('-', '\\-'))\n",
    "pat"
   ]
  },
  {
   "cell_type": "code",
   "execution_count": 7,
   "metadata": {},
   "outputs": [],
   "source": [
    "top5drugs_df = df.copy(deep=True)"
   ]
  },
  {
   "cell_type": "code",
   "execution_count": 8,
   "metadata": {},
   "outputs": [],
   "source": [
    "top5drugs_df['cms_prescription_counts'] = df['cms_prescription_counts'].str.replace(pat, '', regex=True).str.strip().str.replace('\\s+', ' ', regex=True)"
   ]
  },
  {
   "cell_type": "code",
   "execution_count": 9,
   "metadata": {},
   "outputs": [
    {
     "data": {
      "text/html": [
       "<div>\n",
       "<style scoped>\n",
       "    .dataframe tbody tr th:only-of-type {\n",
       "        vertical-align: middle;\n",
       "    }\n",
       "\n",
       "    .dataframe tbody tr th {\n",
       "        vertical-align: top;\n",
       "    }\n",
       "\n",
       "    .dataframe thead th {\n",
       "        text-align: right;\n",
       "    }\n",
       "</style>\n",
       "<table border=\"1\" class=\"dataframe\">\n",
       "  <thead>\n",
       "    <tr style=\"text-align: right;\">\n",
       "      <th></th>\n",
       "      <th>specialty</th>\n",
       "      <th>years_practicing</th>\n",
       "      <th>cms_prescription_counts</th>\n",
       "    </tr>\n",
       "  </thead>\n",
       "  <tbody>\n",
       "    <tr>\n",
       "      <th>0</th>\n",
       "      <td>Nephrology</td>\n",
       "      <td>7</td>\n",
       "      <td>HYDROCODONE GABAPENTIN OMEPRAZOLE LISINOPRIL L...</td>\n",
       "    </tr>\n",
       "    <tr>\n",
       "      <th>1</th>\n",
       "      <td>General Practice</td>\n",
       "      <td>7</td>\n",
       "      <td>AMOXICILLIN HYDROCODONE</td>\n",
       "    </tr>\n",
       "    <tr>\n",
       "      <th>2</th>\n",
       "      <td>General Practice</td>\n",
       "      <td>7</td>\n",
       "      <td>AMOXICILLIN</td>\n",
       "    </tr>\n",
       "    <tr>\n",
       "      <th>3</th>\n",
       "      <td>General Practice</td>\n",
       "      <td>7</td>\n",
       "      <td>AMOXICILLIN</td>\n",
       "    </tr>\n",
       "    <tr>\n",
       "      <th>4</th>\n",
       "      <td>Nephrology</td>\n",
       "      <td>6</td>\n",
       "      <td>HYDROCODONE OMEPRAZOLE LISINOPRIL AMOXICILLIN ...</td>\n",
       "    </tr>\n",
       "    <tr>\n",
       "      <th>...</th>\n",
       "      <td>...</td>\n",
       "      <td>...</td>\n",
       "      <td>...</td>\n",
       "    </tr>\n",
       "    <tr>\n",
       "      <th>239925</th>\n",
       "      <td>Family</td>\n",
       "      <td>7</td>\n",
       "      <td>LISINOPRIL LISINOPRIL OMEPRAZOLE</td>\n",
       "    </tr>\n",
       "    <tr>\n",
       "      <th>239926</th>\n",
       "      <td>Surgical Technologist</td>\n",
       "      <td>2</td>\n",
       "      <td></td>\n",
       "    </tr>\n",
       "    <tr>\n",
       "      <th>239927</th>\n",
       "      <td>Psych/Mental Health</td>\n",
       "      <td>3</td>\n",
       "      <td>GABAPENTIN</td>\n",
       "    </tr>\n",
       "    <tr>\n",
       "      <th>239928</th>\n",
       "      <td>Family</td>\n",
       "      <td>2</td>\n",
       "      <td>AMOXICILLIN LISINOPRIL LISINOPRIL</td>\n",
       "    </tr>\n",
       "    <tr>\n",
       "      <th>239929</th>\n",
       "      <td>General Practice</td>\n",
       "      <td>7</td>\n",
       "      <td>AMOXICILLIN</td>\n",
       "    </tr>\n",
       "  </tbody>\n",
       "</table>\n",
       "<p>239930 rows × 3 columns</p>\n",
       "</div>"
      ],
      "text/plain": [
       "                    specialty  years_practicing  \\\n",
       "0                  Nephrology                 7   \n",
       "1            General Practice                 7   \n",
       "2            General Practice                 7   \n",
       "3            General Practice                 7   \n",
       "4                  Nephrology                 6   \n",
       "...                       ...               ...   \n",
       "239925                 Family                 7   \n",
       "239926  Surgical Technologist                 2   \n",
       "239927    Psych/Mental Health                 3   \n",
       "239928                 Family                 2   \n",
       "239929       General Practice                 7   \n",
       "\n",
       "                                  cms_prescription_counts  \n",
       "0       HYDROCODONE GABAPENTIN OMEPRAZOLE LISINOPRIL L...  \n",
       "1                                 AMOXICILLIN HYDROCODONE  \n",
       "2                                             AMOXICILLIN  \n",
       "3                                             AMOXICILLIN  \n",
       "4       HYDROCODONE OMEPRAZOLE LISINOPRIL AMOXICILLIN ...  \n",
       "...                                                   ...  \n",
       "239925                   LISINOPRIL LISINOPRIL OMEPRAZOLE  \n",
       "239926                                                     \n",
       "239927                                         GABAPENTIN  \n",
       "239928                  AMOXICILLIN LISINOPRIL LISINOPRIL  \n",
       "239929                                        AMOXICILLIN  \n",
       "\n",
       "[239930 rows x 3 columns]"
      ]
     },
     "execution_count": 9,
     "metadata": {},
     "output_type": "execute_result"
    }
   ],
   "source": [
    "top5drugs_df"
   ]
  },
  {
   "cell_type": "code",
   "execution_count": 10,
   "metadata": {},
   "outputs": [
    {
     "data": {
      "text/plain": [
       "specialty                  Surgical Critical Care\n",
       "years_practicing                                7\n",
       "cms_prescription_counts                         &\n",
       "Name: 12501, dtype: object"
      ]
     },
     "execution_count": 10,
     "metadata": {},
     "output_type": "execute_result"
    }
   ],
   "source": [
    "top5drugs_df.loc[12501]"
   ]
  },
  {
   "cell_type": "code",
   "execution_count": 11,
   "metadata": {},
   "outputs": [
    {
     "data": {
      "text/plain": [
       "0         HYDROCODONE GABAPENTIN OMEPRAZOLE LISINOPRIL L...\n",
       "1                                   AMOXICILLIN HYDROCODONE\n",
       "2                                               AMOXICILLIN\n",
       "3                                               AMOXICILLIN\n",
       "4         HYDROCODONE OMEPRAZOLE LISINOPRIL AMOXICILLIN ...\n",
       "                                ...                        \n",
       "239924                              AMOXICILLIN HYDROCODONE\n",
       "239925                     LISINOPRIL LISINOPRIL OMEPRAZOLE\n",
       "239927                                           GABAPENTIN\n",
       "239928                    AMOXICILLIN LISINOPRIL LISINOPRIL\n",
       "239929                                          AMOXICILLIN\n",
       "Name: cms_prescription_counts, Length: 175929, dtype: object"
      ]
     },
     "execution_count": 11,
     "metadata": {},
     "output_type": "execute_result"
    }
   ],
   "source": [
    "top5drugs_df['cms_prescription_counts'].replace('', np.NaN).dropna()"
   ]
  },
  {
   "cell_type": "code",
   "execution_count": 12,
   "metadata": {},
   "outputs": [],
   "source": [
    "top5drugs_df['cms_prescription_counts'] = top5drugs_df['cms_prescription_counts'].str.replace('[^\\w\\- ]', '', regex=True).replace('', np.NaN)"
   ]
  },
  {
   "cell_type": "code",
   "execution_count": 13,
   "metadata": {},
   "outputs": [],
   "source": [
    "top5drugs_df = top5drugs_df.dropna()"
   ]
  },
  {
   "cell_type": "code",
   "execution_count": 14,
   "metadata": {},
   "outputs": [
    {
     "data": {
      "text/html": [
       "<div>\n",
       "<style scoped>\n",
       "    .dataframe tbody tr th:only-of-type {\n",
       "        vertical-align: middle;\n",
       "    }\n",
       "\n",
       "    .dataframe tbody tr th {\n",
       "        vertical-align: top;\n",
       "    }\n",
       "\n",
       "    .dataframe thead th {\n",
       "        text-align: right;\n",
       "    }\n",
       "</style>\n",
       "<table border=\"1\" class=\"dataframe\">\n",
       "  <thead>\n",
       "    <tr style=\"text-align: right;\">\n",
       "      <th></th>\n",
       "      <th>specialty</th>\n",
       "      <th>years_practicing</th>\n",
       "      <th>cms_prescription_counts</th>\n",
       "    </tr>\n",
       "  </thead>\n",
       "  <tbody>\n",
       "    <tr>\n",
       "      <th>0</th>\n",
       "      <td>Nephrology</td>\n",
       "      <td>7</td>\n",
       "      <td>HYDROCODONE GABAPENTIN OMEPRAZOLE LISINOPRIL L...</td>\n",
       "    </tr>\n",
       "    <tr>\n",
       "      <th>1</th>\n",
       "      <td>General Practice</td>\n",
       "      <td>7</td>\n",
       "      <td>AMOXICILLIN HYDROCODONE</td>\n",
       "    </tr>\n",
       "    <tr>\n",
       "      <th>2</th>\n",
       "      <td>General Practice</td>\n",
       "      <td>7</td>\n",
       "      <td>AMOXICILLIN</td>\n",
       "    </tr>\n",
       "    <tr>\n",
       "      <th>3</th>\n",
       "      <td>General Practice</td>\n",
       "      <td>7</td>\n",
       "      <td>AMOXICILLIN</td>\n",
       "    </tr>\n",
       "    <tr>\n",
       "      <th>4</th>\n",
       "      <td>Nephrology</td>\n",
       "      <td>6</td>\n",
       "      <td>HYDROCODONE OMEPRAZOLE LISINOPRIL AMOXICILLIN ...</td>\n",
       "    </tr>\n",
       "    <tr>\n",
       "      <th>...</th>\n",
       "      <td>...</td>\n",
       "      <td>...</td>\n",
       "      <td>...</td>\n",
       "    </tr>\n",
       "    <tr>\n",
       "      <th>239924</th>\n",
       "      <td>General Practice</td>\n",
       "      <td>6</td>\n",
       "      <td>AMOXICILLIN HYDROCODONE</td>\n",
       "    </tr>\n",
       "    <tr>\n",
       "      <th>239925</th>\n",
       "      <td>Family</td>\n",
       "      <td>7</td>\n",
       "      <td>LISINOPRIL LISINOPRIL OMEPRAZOLE</td>\n",
       "    </tr>\n",
       "    <tr>\n",
       "      <th>239927</th>\n",
       "      <td>Psych/Mental Health</td>\n",
       "      <td>3</td>\n",
       "      <td>GABAPENTIN</td>\n",
       "    </tr>\n",
       "    <tr>\n",
       "      <th>239928</th>\n",
       "      <td>Family</td>\n",
       "      <td>2</td>\n",
       "      <td>AMOXICILLIN LISINOPRIL LISINOPRIL</td>\n",
       "    </tr>\n",
       "    <tr>\n",
       "      <th>239929</th>\n",
       "      <td>General Practice</td>\n",
       "      <td>7</td>\n",
       "      <td>AMOXICILLIN</td>\n",
       "    </tr>\n",
       "  </tbody>\n",
       "</table>\n",
       "<p>175927 rows × 3 columns</p>\n",
       "</div>"
      ],
      "text/plain": [
       "                  specialty  years_practicing  \\\n",
       "0                Nephrology                 7   \n",
       "1          General Practice                 7   \n",
       "2          General Practice                 7   \n",
       "3          General Practice                 7   \n",
       "4                Nephrology                 6   \n",
       "...                     ...               ...   \n",
       "239924     General Practice                 6   \n",
       "239925               Family                 7   \n",
       "239927  Psych/Mental Health                 3   \n",
       "239928               Family                 2   \n",
       "239929     General Practice                 7   \n",
       "\n",
       "                                  cms_prescription_counts  \n",
       "0       HYDROCODONE GABAPENTIN OMEPRAZOLE LISINOPRIL L...  \n",
       "1                                 AMOXICILLIN HYDROCODONE  \n",
       "2                                             AMOXICILLIN  \n",
       "3                                             AMOXICILLIN  \n",
       "4       HYDROCODONE OMEPRAZOLE LISINOPRIL AMOXICILLIN ...  \n",
       "...                                                   ...  \n",
       "239924                            AMOXICILLIN HYDROCODONE  \n",
       "239925                   LISINOPRIL LISINOPRIL OMEPRAZOLE  \n",
       "239927                                         GABAPENTIN  \n",
       "239928                  AMOXICILLIN LISINOPRIL LISINOPRIL  \n",
       "239929                                        AMOXICILLIN  \n",
       "\n",
       "[175927 rows x 3 columns]"
      ]
     },
     "execution_count": 14,
     "metadata": {},
     "output_type": "execute_result"
    }
   ],
   "source": [
    "top5drugs_df"
   ]
  },
  {
   "cell_type": "code",
   "execution_count": 15,
   "metadata": {},
   "outputs": [
    {
     "data": {
      "text/html": [
       "<div>\n",
       "<style scoped>\n",
       "    .dataframe tbody tr th:only-of-type {\n",
       "        vertical-align: middle;\n",
       "    }\n",
       "\n",
       "    .dataframe tbody tr th {\n",
       "        vertical-align: top;\n",
       "    }\n",
       "\n",
       "    .dataframe thead th {\n",
       "        text-align: right;\n",
       "    }\n",
       "</style>\n",
       "<table border=\"1\" class=\"dataframe\">\n",
       "  <thead>\n",
       "    <tr style=\"text-align: right;\">\n",
       "      <th></th>\n",
       "      <th>specialty</th>\n",
       "      <th>years_practicing</th>\n",
       "      <th>cms_prescription_counts</th>\n",
       "    </tr>\n",
       "  </thead>\n",
       "  <tbody>\n",
       "    <tr>\n",
       "      <th>0</th>\n",
       "      <td>Nephrology</td>\n",
       "      <td>7</td>\n",
       "      <td>HYDROCODONE GABAPENTIN OMEPRAZOLE LISINOPRIL L...</td>\n",
       "    </tr>\n",
       "    <tr>\n",
       "      <th>1</th>\n",
       "      <td>General Practice</td>\n",
       "      <td>7</td>\n",
       "      <td>AMOXICILLIN HYDROCODONE</td>\n",
       "    </tr>\n",
       "    <tr>\n",
       "      <th>2</th>\n",
       "      <td>General Practice</td>\n",
       "      <td>7</td>\n",
       "      <td>AMOXICILLIN</td>\n",
       "    </tr>\n",
       "    <tr>\n",
       "      <th>3</th>\n",
       "      <td>General Practice</td>\n",
       "      <td>7</td>\n",
       "      <td>AMOXICILLIN</td>\n",
       "    </tr>\n",
       "    <tr>\n",
       "      <th>4</th>\n",
       "      <td>Nephrology</td>\n",
       "      <td>6</td>\n",
       "      <td>HYDROCODONE OMEPRAZOLE LISINOPRIL AMOXICILLIN ...</td>\n",
       "    </tr>\n",
       "    <tr>\n",
       "      <th>...</th>\n",
       "      <td>...</td>\n",
       "      <td>...</td>\n",
       "      <td>...</td>\n",
       "    </tr>\n",
       "    <tr>\n",
       "      <th>239924</th>\n",
       "      <td>General Practice</td>\n",
       "      <td>6</td>\n",
       "      <td>AMOXICILLIN HYDROCODONE</td>\n",
       "    </tr>\n",
       "    <tr>\n",
       "      <th>239925</th>\n",
       "      <td>Family</td>\n",
       "      <td>7</td>\n",
       "      <td>LISINOPRIL LISINOPRIL OMEPRAZOLE</td>\n",
       "    </tr>\n",
       "    <tr>\n",
       "      <th>239927</th>\n",
       "      <td>Psych/Mental Health</td>\n",
       "      <td>3</td>\n",
       "      <td>GABAPENTIN</td>\n",
       "    </tr>\n",
       "    <tr>\n",
       "      <th>239928</th>\n",
       "      <td>Family</td>\n",
       "      <td>2</td>\n",
       "      <td>AMOXICILLIN LISINOPRIL LISINOPRIL</td>\n",
       "    </tr>\n",
       "    <tr>\n",
       "      <th>239929</th>\n",
       "      <td>General Practice</td>\n",
       "      <td>7</td>\n",
       "      <td>AMOXICILLIN</td>\n",
       "    </tr>\n",
       "  </tbody>\n",
       "</table>\n",
       "<p>175927 rows × 3 columns</p>\n",
       "</div>"
      ],
      "text/plain": [
       "                  specialty  years_practicing  \\\n",
       "0                Nephrology                 7   \n",
       "1          General Practice                 7   \n",
       "2          General Practice                 7   \n",
       "3          General Practice                 7   \n",
       "4                Nephrology                 6   \n",
       "...                     ...               ...   \n",
       "239924     General Practice                 6   \n",
       "239925               Family                 7   \n",
       "239927  Psych/Mental Health                 3   \n",
       "239928               Family                 2   \n",
       "239929     General Practice                 7   \n",
       "\n",
       "                                  cms_prescription_counts  \n",
       "0       HYDROCODONE GABAPENTIN OMEPRAZOLE LISINOPRIL L...  \n",
       "1                                 AMOXICILLIN HYDROCODONE  \n",
       "2                                             AMOXICILLIN  \n",
       "3                                             AMOXICILLIN  \n",
       "4       HYDROCODONE OMEPRAZOLE LISINOPRIL AMOXICILLIN ...  \n",
       "...                                                   ...  \n",
       "239924                            AMOXICILLIN HYDROCODONE  \n",
       "239925                   LISINOPRIL LISINOPRIL OMEPRAZOLE  \n",
       "239927                                         GABAPENTIN  \n",
       "239928                  AMOXICILLIN LISINOPRIL LISINOPRIL  \n",
       "239929                                        AMOXICILLIN  \n",
       "\n",
       "[175927 rows x 3 columns]"
      ]
     },
     "execution_count": 15,
     "metadata": {},
     "output_type": "execute_result"
    }
   ],
   "source": [
    "top5drugs_df"
   ]
  },
  {
   "cell_type": "code",
   "execution_count": 16,
   "metadata": {},
   "outputs": [
    {
     "data": {
      "text/plain": [
       "array(['AMOXICILLIN', 'GABAPENTIN', 'HYDROCODONE', 'LISINOPRIL',\n",
       "       'OMEPRAZOLE'], dtype='<U11')"
      ]
     },
     "execution_count": 16,
     "metadata": {},
     "output_type": "execute_result"
    }
   ],
   "source": [
    "np.unique(np.hstack(top5drugs_df['cms_prescription_counts'].str.extract('(\\w+)', expand=False).values))"
   ]
  },
  {
   "cell_type": "code",
   "execution_count": 20,
   "metadata": {},
   "outputs": [],
   "source": [
    "top5drugs_df.to_csv('top5drugs.csv')"
   ]
  },
  {
   "cell_type": "code",
   "execution_count": 22,
   "metadata": {},
   "outputs": [
    {
     "name": "stdout",
     "output_type": "stream",
     "text": [
      "(5,)\n"
     ]
    },
    {
     "name": "stderr",
     "output_type": "stream",
     "text": [
      "  0%|          | 0/5 [00:00<?, ?it/s]d:\\GitHub\\psppr2\\kmeans\\encode.py:11: UserWarning: This pattern is interpreted as a regular expression, and has match groups. To actually get the groups, use str.extract.\n",
      "  encoded[data_s.str.contains(f'({word})'), i] = 1\n",
      "100%|██████████| 5/5 [00:00<00:00,  6.87it/s]\n"
     ]
    }
   ],
   "source": [
    "encoded = onehotencode(top5drugs_df['cms_prescription_counts'])"
   ]
  },
  {
   "cell_type": "code",
   "execution_count": null,
   "metadata": {},
   "outputs": [],
   "source": [
    "np.save('top5encoded.npy', encoded)"
   ]
  },
  {
   "cell_type": "code",
   "execution_count": 25,
   "metadata": {},
   "outputs": [
    {
     "name": "stderr",
     "output_type": "stream",
     "text": [
      "C:\\Users\\Anna\\AppData\\Local\\Temp\\ipykernel_15220\\1242414155.py:1: SettingWithCopyWarning: \n",
      "A value is trying to be set on a copy of a slice from a DataFrame.\n",
      "Try using .loc[row_indexer,col_indexer] = value instead\n",
      "\n",
      "See the caveats in the documentation: https://pandas.pydata.org/pandas-docs/stable/user_guide/indexing.html#returning-a-view-versus-a-copy\n",
      "  top5drugs_df['encoded'] = [list(arr) for arr in encoded.astype(int)]\n"
     ]
    }
   ],
   "source": [
    "top5drugs_df['encoded'] = [list(arr) for arr in encoded.astype(int)]"
   ]
  },
  {
   "cell_type": "code",
   "execution_count": 27,
   "metadata": {},
   "outputs": [],
   "source": [
    "top5drugs_df.to_csv('top5drugs_encoded.csv')"
   ]
  },
  {
   "cell_type": "code",
   "execution_count": 26,
   "metadata": {},
   "outputs": [
    {
     "data": {
      "text/html": [
       "<div>\n",
       "<style scoped>\n",
       "    .dataframe tbody tr th:only-of-type {\n",
       "        vertical-align: middle;\n",
       "    }\n",
       "\n",
       "    .dataframe tbody tr th {\n",
       "        vertical-align: top;\n",
       "    }\n",
       "\n",
       "    .dataframe thead th {\n",
       "        text-align: right;\n",
       "    }\n",
       "</style>\n",
       "<table border=\"1\" class=\"dataframe\">\n",
       "  <thead>\n",
       "    <tr style=\"text-align: right;\">\n",
       "      <th></th>\n",
       "      <th>specialty</th>\n",
       "      <th>years_practicing</th>\n",
       "      <th>cms_prescription_counts</th>\n",
       "      <th>encoded</th>\n",
       "    </tr>\n",
       "  </thead>\n",
       "  <tbody>\n",
       "    <tr>\n",
       "      <th>0</th>\n",
       "      <td>Nephrology</td>\n",
       "      <td>7</td>\n",
       "      <td>HYDROCODONE GABAPENTIN OMEPRAZOLE LISINOPRIL L...</td>\n",
       "      <td>[0, 1, 1, 1, 1]</td>\n",
       "    </tr>\n",
       "    <tr>\n",
       "      <th>1</th>\n",
       "      <td>General Practice</td>\n",
       "      <td>7</td>\n",
       "      <td>AMOXICILLIN HYDROCODONE</td>\n",
       "      <td>[1, 0, 1, 0, 0]</td>\n",
       "    </tr>\n",
       "    <tr>\n",
       "      <th>2</th>\n",
       "      <td>General Practice</td>\n",
       "      <td>7</td>\n",
       "      <td>AMOXICILLIN</td>\n",
       "      <td>[1, 0, 0, 0, 0]</td>\n",
       "    </tr>\n",
       "    <tr>\n",
       "      <th>3</th>\n",
       "      <td>General Practice</td>\n",
       "      <td>7</td>\n",
       "      <td>AMOXICILLIN</td>\n",
       "      <td>[1, 0, 0, 0, 0]</td>\n",
       "    </tr>\n",
       "    <tr>\n",
       "      <th>4</th>\n",
       "      <td>Nephrology</td>\n",
       "      <td>6</td>\n",
       "      <td>HYDROCODONE OMEPRAZOLE LISINOPRIL AMOXICILLIN ...</td>\n",
       "      <td>[1, 1, 1, 1, 1]</td>\n",
       "    </tr>\n",
       "    <tr>\n",
       "      <th>...</th>\n",
       "      <td>...</td>\n",
       "      <td>...</td>\n",
       "      <td>...</td>\n",
       "      <td>...</td>\n",
       "    </tr>\n",
       "    <tr>\n",
       "      <th>239924</th>\n",
       "      <td>General Practice</td>\n",
       "      <td>6</td>\n",
       "      <td>AMOXICILLIN HYDROCODONE</td>\n",
       "      <td>[1, 0, 1, 0, 0]</td>\n",
       "    </tr>\n",
       "    <tr>\n",
       "      <th>239925</th>\n",
       "      <td>Family</td>\n",
       "      <td>7</td>\n",
       "      <td>LISINOPRIL LISINOPRIL OMEPRAZOLE</td>\n",
       "      <td>[0, 0, 0, 1, 1]</td>\n",
       "    </tr>\n",
       "    <tr>\n",
       "      <th>239927</th>\n",
       "      <td>Psych/Mental Health</td>\n",
       "      <td>3</td>\n",
       "      <td>GABAPENTIN</td>\n",
       "      <td>[0, 1, 0, 0, 0]</td>\n",
       "    </tr>\n",
       "    <tr>\n",
       "      <th>239928</th>\n",
       "      <td>Family</td>\n",
       "      <td>2</td>\n",
       "      <td>AMOXICILLIN LISINOPRIL LISINOPRIL</td>\n",
       "      <td>[1, 0, 0, 1, 0]</td>\n",
       "    </tr>\n",
       "    <tr>\n",
       "      <th>239929</th>\n",
       "      <td>General Practice</td>\n",
       "      <td>7</td>\n",
       "      <td>AMOXICILLIN</td>\n",
       "      <td>[1, 0, 0, 0, 0]</td>\n",
       "    </tr>\n",
       "  </tbody>\n",
       "</table>\n",
       "<p>175927 rows × 4 columns</p>\n",
       "</div>"
      ],
      "text/plain": [
       "                  specialty  years_practicing  \\\n",
       "0                Nephrology                 7   \n",
       "1          General Practice                 7   \n",
       "2          General Practice                 7   \n",
       "3          General Practice                 7   \n",
       "4                Nephrology                 6   \n",
       "...                     ...               ...   \n",
       "239924     General Practice                 6   \n",
       "239925               Family                 7   \n",
       "239927  Psych/Mental Health                 3   \n",
       "239928               Family                 2   \n",
       "239929     General Practice                 7   \n",
       "\n",
       "                                  cms_prescription_counts          encoded  \n",
       "0       HYDROCODONE GABAPENTIN OMEPRAZOLE LISINOPRIL L...  [0, 1, 1, 1, 1]  \n",
       "1                                 AMOXICILLIN HYDROCODONE  [1, 0, 1, 0, 0]  \n",
       "2                                             AMOXICILLIN  [1, 0, 0, 0, 0]  \n",
       "3                                             AMOXICILLIN  [1, 0, 0, 0, 0]  \n",
       "4       HYDROCODONE OMEPRAZOLE LISINOPRIL AMOXICILLIN ...  [1, 1, 1, 1, 1]  \n",
       "...                                                   ...              ...  \n",
       "239924                            AMOXICILLIN HYDROCODONE  [1, 0, 1, 0, 0]  \n",
       "239925                   LISINOPRIL LISINOPRIL OMEPRAZOLE  [0, 0, 0, 1, 1]  \n",
       "239927                                         GABAPENTIN  [0, 1, 0, 0, 0]  \n",
       "239928                  AMOXICILLIN LISINOPRIL LISINOPRIL  [1, 0, 0, 1, 0]  \n",
       "239929                                        AMOXICILLIN  [1, 0, 0, 0, 0]  \n",
       "\n",
       "[175927 rows x 4 columns]"
      ]
     },
     "execution_count": 26,
     "metadata": {},
     "output_type": "execute_result"
    }
   ],
   "source": [
    "top5drugs_df"
   ]
  },
  {
   "cell_type": "code",
   "execution_count": 19,
   "metadata": {},
   "outputs": [
    {
     "name": "stdout",
     "output_type": "stream",
     "text": [
      "(5,)\n"
     ]
    },
    {
     "name": "stderr",
     "output_type": "stream",
     "text": [
      "  0%|          | 0/5 [00:00<?, ?it/s]d:\\GitHub\\psppr2\\kmeans\\encode.py:11: UserWarning: This pattern is interpreted as a regular expression, and has match groups. To actually get the groups, use str.extract.\n",
      "  encoded[data_s.str.contains(f'({word})'), i] = 1\n",
      "100%|██████████| 5/5 [00:00<00:00,  7.44it/s]\n"
     ]
    },
    {
     "data": {
      "text/plain": [
       "array([[0., 1., 1., 1., 1.],\n",
       "       [1., 0., 1., 0., 0.],\n",
       "       [1., 0., 0., 0., 0.],\n",
       "       ...,\n",
       "       [0., 1., 0., 0., 0.],\n",
       "       [1., 0., 0., 1., 0.],\n",
       "       [1., 0., 0., 0., 0.]])"
      ]
     },
     "execution_count": 19,
     "metadata": {},
     "output_type": "execute_result"
    }
   ],
   "source": [
    "onehotencode(top5drugs_df['cms_prescription_counts'])"
   ]
  },
  {
   "cell_type": "code",
   "execution_count": null,
   "metadata": {},
   "outputs": [
    {
     "data": {
      "text/plain": [
       "0         HYDROCODONE GABAPENTIN OMEPRAZOLE LISINOPRIL L...\n",
       "1                                   AMOXICILLIN HYDROCODONE\n",
       "2                                               AMOXICILLIN\n",
       "3                                               AMOXICILLIN\n",
       "4         HYDROCODONE OMEPRAZOLE LISINOPRIL AMOXICILLIN ...\n",
       "                                ...                        \n",
       "239924                              AMOXICILLIN HYDROCODONE\n",
       "239925                     LISINOPRIL LISINOPRIL OMEPRAZOLE\n",
       "239927                                           GABAPENTIN\n",
       "239928                    AMOXICILLIN LISINOPRIL LISINOPRIL\n",
       "239929                                          AMOXICILLIN\n",
       "Name: cms_prescription_counts, Length: 175927, dtype: object"
      ]
     },
     "execution_count": 229,
     "metadata": {},
     "output_type": "execute_result"
    }
   ],
   "source": [
    "clean_top5drugs_df"
   ]
  },
  {
   "cell_type": "code",
   "execution_count": null,
   "metadata": {},
   "outputs": [
    {
     "data": {
      "text/plain": [
       "10"
      ]
     },
     "execution_count": 230,
     "metadata": {},
     "output_type": "execute_result"
    }
   ],
   "source": [
    "clean_top5drugs_df.str.len().min()"
   ]
  },
  {
   "cell_type": "code",
   "execution_count": null,
   "metadata": {},
   "outputs": [],
   "source": [
    "clean_top5drugs_df.to_csv('top5drugs.csv')"
   ]
  },
  {
   "cell_type": "code",
   "execution_count": null,
   "metadata": {},
   "outputs": [
    {
     "data": {
      "text/plain": [
       "array(['', 'AMOXICILLIN', 'GABAPENTIN', 'HYDROCODONE', 'LISINOPRIL',\n",
       "       'OMEPRAZOLE'], dtype='<U11')"
      ]
     },
     "execution_count": 179,
     "metadata": {},
     "output_type": "execute_result"
    }
   ],
   "source": [
    "np.unique(np.hstack(clean_top5drugs_df.str.split(' ').values))"
   ]
  },
  {
   "cell_type": "code",
   "execution_count": null,
   "metadata": {},
   "outputs": [],
   "source": [
    "clean_top5drugs_df = clean_top5drugs_df.str.replace('[#&\\(]', '', regex=True)"
   ]
  },
  {
   "cell_type": "code",
   "execution_count": null,
   "metadata": {},
   "outputs": [
    {
     "data": {
      "text/plain": [
       "10"
      ]
     },
     "execution_count": 156,
     "metadata": {},
     "output_type": "execute_result"
    }
   ],
   "source": [
    "clean_top5drugs_df.str.len().min()"
   ]
  },
  {
   "cell_type": "code",
   "execution_count": null,
   "metadata": {},
   "outputs": [
    {
     "data": {
      "text/plain": [
       "array(['', 'AMOXICILLIN', 'GABAPENTIN', 'HYDROCODONE', 'LISINOPRIL',\n",
       "       'OMEPRAZOLE'], dtype='<U12')"
      ]
     },
     "execution_count": 161,
     "metadata": {},
     "output_type": "execute_result"
    }
   ],
   "source": [
    "np.unique(np.char.strip(np.hstack(clean_top5drugs_df.str.strip().str.split(',').values)))"
   ]
  },
  {
   "cell_type": "code",
   "execution_count": null,
   "metadata": {},
   "outputs": [
    {
     "data": {
      "text/html": [
       "<div>\n",
       "<style scoped>\n",
       "    .dataframe tbody tr th:only-of-type {\n",
       "        vertical-align: middle;\n",
       "    }\n",
       "\n",
       "    .dataframe tbody tr th {\n",
       "        vertical-align: top;\n",
       "    }\n",
       "\n",
       "    .dataframe thead th {\n",
       "        text-align: right;\n",
       "    }\n",
       "</style>\n",
       "<table border=\"1\" class=\"dataframe\">\n",
       "  <thead>\n",
       "    <tr style=\"text-align: right;\">\n",
       "      <th></th>\n",
       "      <th>specialty</th>\n",
       "      <th>years_practicing</th>\n",
       "      <th>cms_prescription_counts</th>\n",
       "    </tr>\n",
       "  </thead>\n",
       "  <tbody>\n",
       "    <tr>\n",
       "      <th>0</th>\n",
       "      <td>Nephrology</td>\n",
       "      <td>7</td>\n",
       "      <td>DOXAZOSIN MESYLATE, MIDODRINE HCL, MEGESTROL A...</td>\n",
       "    </tr>\n",
       "    <tr>\n",
       "      <th>1</th>\n",
       "      <td>General Practice</td>\n",
       "      <td>7</td>\n",
       "      <td>CEPHALEXIN, AMOXICILLIN, HYDROCODONE-ACETAMINO...</td>\n",
       "    </tr>\n",
       "    <tr>\n",
       "      <th>2</th>\n",
       "      <td>General Practice</td>\n",
       "      <td>7</td>\n",
       "      <td>CEPHALEXIN, AMOXICILLIN, CLINDAMYCIN HCL</td>\n",
       "    </tr>\n",
       "    <tr>\n",
       "      <th>3</th>\n",
       "      <td>General Practice</td>\n",
       "      <td>7</td>\n",
       "      <td>AMOXICILLIN</td>\n",
       "    </tr>\n",
       "    <tr>\n",
       "      <th>4</th>\n",
       "      <td>Nephrology</td>\n",
       "      <td>6</td>\n",
       "      <td>PIOGLITAZONE HCL, BENAZEPRIL HCL, DIAZEPAM, HY...</td>\n",
       "    </tr>\n",
       "    <tr>\n",
       "      <th>...</th>\n",
       "      <td>...</td>\n",
       "      <td>...</td>\n",
       "      <td>...</td>\n",
       "    </tr>\n",
       "    <tr>\n",
       "      <th>239924</th>\n",
       "      <td>General Practice</td>\n",
       "      <td>6</td>\n",
       "      <td>AMOXICILLIN, HYDROCODONE-ACETAMINOPHEN, CHLORH...</td>\n",
       "    </tr>\n",
       "    <tr>\n",
       "      <th>239925</th>\n",
       "      <td>Family</td>\n",
       "      <td>7</td>\n",
       "      <td>SIMVASTATIN, NEXIUM, CHLORHEXIDINE GLUCONATE, ...</td>\n",
       "    </tr>\n",
       "    <tr>\n",
       "      <th>239927</th>\n",
       "      <td>Psych/Mental Health</td>\n",
       "      <td>3</td>\n",
       "      <td>HYDROXYZINE PAMOATE, BUSPIRONE HCL, SEROQUEL X...</td>\n",
       "    </tr>\n",
       "    <tr>\n",
       "      <th>239928</th>\n",
       "      <td>Family</td>\n",
       "      <td>2</td>\n",
       "      <td>CIPROFLOXACIN HCL, AMOXICILLIN, IBUPROFEN, NEX...</td>\n",
       "    </tr>\n",
       "    <tr>\n",
       "      <th>239929</th>\n",
       "      <td>General Practice</td>\n",
       "      <td>7</td>\n",
       "      <td>AMOXICILLIN, PENICILLIN V POTASSIUM</td>\n",
       "    </tr>\n",
       "  </tbody>\n",
       "</table>\n",
       "<p>175927 rows × 3 columns</p>\n",
       "</div>"
      ],
      "text/plain": [
       "                  specialty  years_practicing  \\\n",
       "0                Nephrology                 7   \n",
       "1          General Practice                 7   \n",
       "2          General Practice                 7   \n",
       "3          General Practice                 7   \n",
       "4                Nephrology                 6   \n",
       "...                     ...               ...   \n",
       "239924     General Practice                 6   \n",
       "239925               Family                 7   \n",
       "239927  Psych/Mental Health                 3   \n",
       "239928               Family                 2   \n",
       "239929     General Practice                 7   \n",
       "\n",
       "                                  cms_prescription_counts  \n",
       "0       DOXAZOSIN MESYLATE, MIDODRINE HCL, MEGESTROL A...  \n",
       "1       CEPHALEXIN, AMOXICILLIN, HYDROCODONE-ACETAMINO...  \n",
       "2                CEPHALEXIN, AMOXICILLIN, CLINDAMYCIN HCL  \n",
       "3                                             AMOXICILLIN  \n",
       "4       PIOGLITAZONE HCL, BENAZEPRIL HCL, DIAZEPAM, HY...  \n",
       "...                                                   ...  \n",
       "239924  AMOXICILLIN, HYDROCODONE-ACETAMINOPHEN, CHLORH...  \n",
       "239925  SIMVASTATIN, NEXIUM, CHLORHEXIDINE GLUCONATE, ...  \n",
       "239927  HYDROXYZINE PAMOATE, BUSPIRONE HCL, SEROQUEL X...  \n",
       "239928  CIPROFLOXACIN HCL, AMOXICILLIN, IBUPROFEN, NEX...  \n",
       "239929                AMOXICILLIN, PENICILLIN V POTASSIUM  \n",
       "\n",
       "[175927 rows x 3 columns]"
      ]
     },
     "execution_count": 31,
     "metadata": {},
     "output_type": "execute_result"
    }
   ],
   "source": [
    "small_df = df[df['cms_prescription_counts'].str.contains('|'.join(top5drugs))]\n",
    "small_df"
   ]
  },
  {
   "cell_type": "code",
   "execution_count": null,
   "metadata": {},
   "outputs": [],
   "source": [
    "small_df.to_csv('top5medicine.csv')"
   ]
  },
  {
   "cell_type": "code",
   "execution_count": null,
   "metadata": {},
   "outputs": [],
   "source": [
    "from encode import onehotencode"
   ]
  },
  {
   "cell_type": "code",
   "execution_count": null,
   "metadata": {},
   "outputs": [
    {
     "name": "stdout",
     "output_type": "stream",
     "text": [
      "(2397,)\n"
     ]
    },
    {
     "name": "stderr",
     "output_type": "stream",
     "text": [
      "100%|██████████| 2397/2397 [12:43<00:00,  3.14it/s]\n"
     ]
    }
   ],
   "source": [
    "res = onehotencode(df['cms_prescription_counts'])"
   ]
  },
  {
   "cell_type": "code",
   "execution_count": null,
   "metadata": {},
   "outputs": [],
   "source": [
    "np.save('onehotencoded.npy', res)"
   ]
  },
  {
   "cell_type": "code",
   "execution_count": null,
   "metadata": {},
   "outputs": [
    {
     "data": {
      "text/plain": [
       "5341972.0"
      ]
     },
     "execution_count": 8,
     "metadata": {},
     "output_type": "execute_result"
    }
   ],
   "source": [
    "res.sum()"
   ]
  },
  {
   "cell_type": "code",
   "execution_count": null,
   "metadata": {},
   "outputs": [
    {
     "data": {
      "text/plain": [
       "array([list(['DOXAZOSIN MESYLATE', 'MIDODRINE HCL', 'MEGESTROL ACETATE', 'BENAZEPRIL HCL', 'METOLAZONE', 'NOVOLOG', 'DIAZEPAM', 'HYDRALAZINE HCL', 'SENSIPAR', 'LABETALOL HCL', 'PREDNISONE', 'CALCITRIOL', 'HYDROCODONE-ACETAMINOPHEN', 'HYDROCHLOROTHIAZIDE', 'LOSARTAN-HYDROCHLOROTHIAZIDE', 'FENOFIBRATE', 'MINOXIDIL', 'MELOXICAM', 'ATENOLOL', 'CARISOPRODOL', 'GABAPENTIN', 'OMEPRAZOLE', 'KLOR-CON M10', 'LANTUS', 'AMLODIPINE BESYLATE', 'CARVEDILOL', 'LOSARTAN POTASSIUM', 'IRBESARTAN', 'NIFEDICAL XL', 'NIFEDIPINE ER', 'LEVOTHYROXINE SODIUM', 'POTASSIUM CHLORIDE', 'FUROSEMIDE', 'GLYBURIDE', 'CLONIDINE HCL', 'TEMAZEPAM', 'SPIRONOLACTONE', 'LOVASTATIN', 'LISINOPRIL', 'PANTOPRAZOLE SODIUM', 'CALCIUM ACETATE', 'NEXIUM', 'ZOLPIDEM TARTRATE', 'DIOVAN', 'OXYCODONE HCL', 'METOPROLOL SUCCINATE', 'RANITIDINE HCL', 'ATORVASTATIN CALCIUM', 'TAMSULOSIN HCL', 'OXYBUTYNIN CHLORIDE', 'LISINOPRIL-HYDROCHLOROTHIAZIDE', 'METOPROLOL TARTRATE', 'AMLODIPINE BESYLATE-BENAZEPRIL', 'BUMETANIDE', 'BYSTOLIC', 'ISOSORBIDE MONONITRATE ER', 'ALLOPURINOL', 'CLOPIDOGREL', 'RENVELA', 'ABILIFY', 'SERTRALINE HCL', 'CIPROFLOXACIN HCL', 'SIMVASTATIN', 'PRAVASTATIN SODIUM', 'ATENOLOL-CHLORTHALIDONE', 'ALPRAZOLAM', 'AZITHROMYCIN', 'TRAMADOL HCL']),\n",
       "       list(['CEPHALEXIN', 'AMOXICILLIN', 'HYDROCODONE-ACETAMINOPHEN']),\n",
       "       list(['CEPHALEXIN', 'AMOXICILLIN', 'CLINDAMYCIN HCL']), ...,\n",
       "       list(['HYDROXYZINE PAMOATE', 'BUSPIRONE HCL', 'SEROQUEL XR', 'LATUDA', 'DONEPEZIL HCL', 'FLUPHENAZINE HCL', 'GABAPENTIN', 'CYMBALTA', 'VENLAFAXINE HCL ER', 'ALPRAZOLAM', 'METOPROLOL TARTRATE', 'BENZTROPINE MESYLATE', 'TRAZODONE HCL', 'ABILIFY', 'PROPRANOLOL HCL']),\n",
       "       list(['CIPROFLOXACIN HCL', 'AMOXICILLIN', 'IBUPROFEN', 'NEXIUM', 'FENOFIBRATE', 'AZITHROMYCIN', 'ALENDRONATE SODIUM', 'TRAMADOL HCL', 'LISINOPRIL-HYDROCHLOROTHIAZIDE', 'LISINOPRIL']),\n",
       "       list(['AMOXICILLIN', 'PENICILLIN V POTASSIUM'])], dtype=object)"
      ]
     },
     "execution_count": 5,
     "metadata": {},
     "output_type": "execute_result"
    }
   ],
   "source": [
    "df['cms_prescription_counts'].str.split(', ').values"
   ]
  }
 ],
 "metadata": {
  "kernelspec": {
   "display_name": ".venv",
   "language": "python",
   "name": "python3"
  },
  "language_info": {
   "codemirror_mode": {
    "name": "ipython",
    "version": 3
   },
   "file_extension": ".py",
   "mimetype": "text/x-python",
   "name": "python",
   "nbconvert_exporter": "python",
   "pygments_lexer": "ipython3",
   "version": "3.9.6"
  },
  "orig_nbformat": 4
 },
 "nbformat": 4,
 "nbformat_minor": 2
}
